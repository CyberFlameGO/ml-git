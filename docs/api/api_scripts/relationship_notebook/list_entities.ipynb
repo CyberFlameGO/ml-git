{
 "cells": [
  {
   "cell_type": "code",
   "execution_count": 1,
   "id": "fab190e2",
   "metadata": {},
   "outputs": [
    {
     "name": "stdout",
     "output_type": "stream",
     "text": [
      "\r"
     ]
    }
   ],
   "source": [
    "from ml_git import api\n",
    "import os"
   ]
  },
  {
   "cell_type": "code",
   "execution_count": 2,
   "id": "04fcab0b",
   "metadata": {},
   "outputs": [
    {
     "name": "stdout",
     "output_type": "stream",
     "text": [
      "\r"
     ]
    }
   ],
   "source": [
    "github_token = ''\n",
    "api_url = 'https://api.github.com'\n",
    "manager = api.init_entity_manager(github_token, api_url)\n",
    "entities = manager.get_entities(config_path=f'{os.getcwd()}/config.yaml')"
   ]
  },
  {
   "cell_type": "code",
   "execution_count": 3,
   "id": "2c25ba35",
   "metadata": {},
   "outputs": [
    {
     "name": "stdout",
     "output_type": "stream",
     "text": [
      "[{\n",
      "  \"entity_type\": \"dataset\",\n",
      "  \"name\": \"dataset-ex\",\n",
      "  \"metadata_full_name\": \"dummy/any\",\n",
      "  \"metadata_git_url\": \"git@github.com:dummy/any.git\",\n",
      "  \"metadata_html_url\": \"https://github.com/dummy/any\",\n",
      "  \"metadata_owner_name\": \"\",\n",
      "  \"mutability\": \"flexible\",\n",
      "  \"categories\": [\n",
      "    \"test\"\n",
      "  ],\n",
      "  \"storage_type\": \"s3h\",\n",
      "  \"bucket\": \"mlgit\",\n",
      "  \"storage\": {\n",
      "    \"aws-credentials\": {\n",
      "      \"profile\": \"personal\"\n",
      "    },\n",
      "    \"endpoint-url\": \"http://127.0.0.1:9000\",\n",
      "    \"region\": null,\n",
      "    \"name\": \"mlgit\",\n",
      "    \"type\": \"s3h\",\n",
      "    \"subtype\": \"minio\"\n",
      "  },\n",
      "  \"version\": 3,\n",
      "  \"versions\": [\n",
      "    {\n",
      "      \"entity_type\": \"dataset\",\n",
      "      \"name\": \"dataset-ex\",\n",
      "      \"mutability\": \"flexible\",\n",
      "      \"categories\": [\n",
      "        \"test\"\n",
      "      ],\n",
      "      \"storage_type\": \"s3h\",\n",
      "      \"bucket\": \"mlgit-test\",\n",
      "      \"version\": 3,\n",
      "      \"versions\": []\n",
      "    },\n",
      "    {\n",
      "      \"entity_type\": \"dataset\",\n",
      "      \"name\": \"dataset-ex\",\n",
      "      \"mutability\": \"flexible\",\n",
      "      \"categories\": [\n",
      "        \"test\"\n",
      "      ],\n",
      "      \"storage_type\": \"s3h\",\n",
      "      \"bucket\": \"mlgit-test\",\n",
      "      \"version\": 2,\n",
      "      \"versions\": []\n",
      "    },\n",
      "    {\n",
      "      \"entity_type\": \"dataset\",\n",
      "      \"name\": \"dataset-ex\",\n",
      "      \"mutability\": \"flexible\",\n",
      "      \"categories\": [\n",
      "        \"test\"\n",
      "      ],\n",
      "      \"storage_type\": \"s3h\",\n",
      "      \"bucket\": \"mlgit-test\",\n",
      "      \"version\": 1,\n",
      "      \"versions\": []\n",
      "    }\n",
      "  ]\n",
      "}]\n",
      "\r"
     ]
    }
   ],
   "source": [
    "print(entities)"
   ]
  },
  {
   "cell_type": "code",
   "execution_count": 4,
   "id": "59d114a6",
   "metadata": {
    "scrolled": true
   },
   "outputs": [
    {
     "name": "stdout",
     "output_type": "stream",
     "text": [
      "[{\n",
      "  \"entity_type\": \"dataset\",\n",
      "  \"name\": \"dataset-ex\",\n",
      "  \"metadata_full_name\": \"dummy/dataset-ex\",\n",
      "  \"metadata_git_url\": \"git@github.com:dummy/dataset-ex.git\",\n",
      "  \"metadata_html_url\": \"https://github.com/dummy/dataset-ex\",\n",
      "  \"metadata_owner_name\": \"\",\n",
      "  \"mutability\": \"mutable\",\n",
      "  \"categories\": [\n",
      "    \"test\"\n",
      "  ],\n",
      "  \"storage_type\": \"s3h\",\n",
      "  \"bucket\": \"mlgit\",\n",
      "  \"storage\": {\n",
      "    \"aws-credentials\": {\n",
      "      \"profile\": \"personal\"\n",
      "    },\n",
      "    \"endpoint-url\": \"http://127.0.0.1:9000\",\n",
      "    \"region\": null,\n",
      "    \"name\": \"mlgit\",\n",
      "    \"type\": \"s3h\",\n",
      "    \"subtype\": \"minio\"\n",
      "  },\n",
      "  \"version\": 2,\n",
      "  \"versions\": []\n",
      "}, {\n",
      "  \"entity_type\": \"labels\",\n",
      "  \"name\": \"labels-ex\",\n",
      "  \"metadata_full_name\": \"dummy/labels-ex\",\n",
      "  \"metadata_git_url\": \"git@github.com:dummy/labels-ex.git\",\n",
      "  \"metadata_html_url\": \"https://github.com/dummy/labels-ex\",\n",
      "  \"metadata_owner_name\": \"\",\n",
      "  \"mutability\": \"mutable\",\n",
      "  \"categories\": [\n",
      "    \"test\"\n",
      "  ],\n",
      "  \"storage_type\": \"s3h\",\n",
      "  \"bucket\": \"mlgit\",\n",
      "  \"storage\": {\n",
      "    \"aws-credentials\": {\n",
      "      \"profile\": \"personal\"\n",
      "    },\n",
      "    \"endpoint-url\": \"http://127.0.0.1:9000\",\n",
      "    \"region\": null,\n",
      "    \"name\": \"mlgit\",\n",
      "    \"type\": \"s3h\",\n",
      "    \"subtype\": \"minio\"\n",
      "  },\n",
      "  \"version\": 2,\n",
      "  \"versions\": [\n",
      "    {\n",
      "      \"entity_type\": \"labels\",\n",
      "      \"name\": \"labels-ex\",\n",
      "      \"mutability\": \"mutable\",\n",
      "      \"categories\": [\n",
      "        \"test\"\n",
      "      ],\n",
      "      \"storage_type\": \"s3h\",\n",
      "      \"bucket\": \"mlgit\",\n",
      "      \"storage\": {\n",
      "        \"aws-credentials\": {\n",
      "          \"profile\": \"personal\"\n",
      "        },\n",
      "        \"endpoint-url\": \"http://127.0.0.1:9000\",\n",
      "        \"region\": null,\n",
      "        \"name\": \"mlgit\",\n",
      "        \"type\": \"s3h\",\n",
      "        \"subtype\": \"minio\"\n",
      "      },\n",
      "      \"version\": 2,\n",
      "      \"versions\": []\n",
      "    }\n",
      "  ]\n",
      "}]\n",
      "\r"
     ]
    }
   ],
   "source": [
    "entities_from_repo = manager.get_entities(repo_name='dummy/dummy-config')\n",
    "print(entities_from_repo)"
   ]
  }
 ],
 "metadata": {
  "kernelspec": {
   "display_name": "Python 3",
   "language": "python",
   "name": "python3"
  },
  "language_info": {
   "codemirror_mode": {
    "name": "ipython",
    "version": 3
   },
   "file_extension": ".py",
   "mimetype": "text/x-python",
   "name": "python",
   "nbconvert_exporter": "python",
   "pygments_lexer": "ipython3",
   "version": "3.7.10"
  }
 },
 "nbformat": 4,
 "nbformat_minor": 5
}
